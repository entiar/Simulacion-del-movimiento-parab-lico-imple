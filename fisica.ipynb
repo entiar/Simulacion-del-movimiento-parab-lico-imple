{
 "cells": [
  {
   "cell_type": "markdown",
   "id": "bc266101",
   "metadata": {},
   "source": [
    "Fuerza es igual a masa por aceleración\n",
    "=="
   ]
  },
  {
   "cell_type": "markdown",
   "id": "d5938851",
   "metadata": {},
   "source": [
    "De la segunda ley de Newton\n",
    "\n",
    "$$\\vec{F}= \\frac{d\\vec{p}}{dt}$$"
   ]
  },
  {
   "cell_type": "markdown",
   "id": "ae3ab374",
   "metadata": {},
   "source": [
    "donde \n",
    "\n",
    "$p=$ cantidad de momento lineal\n",
    "\n",
    "por lo tanto\n",
    "\n",
    "$$p=m\\vec{v}$$"
   ]
  },
  {
   "cell_type": "markdown",
   "id": "bebce70c",
   "metadata": {},
   "source": [
    "Remplazando en $\\vec{F}$\n",
    "\n",
    "$$\\vec{F}=\\frac{dm\\vec{v}}{dt}$$"
   ]
  },
  {
   "cell_type": "markdown",
   "id": "151fc1c2",
   "metadata": {},
   "source": [
    "Derivando por la regla de la cadena\n",
    "\n",
    "$$\\vec{F}=\\frac{dm}{dt}\\vec{v}+m\\frac{d\\vec{v}}{dt}$$"
   ]
  },
  {
   "cell_type": "markdown",
   "id": "96b1b9ce",
   "metadata": {},
   "source": [
    "Para masa constante $\\frac{dm}{dt} = 0$ por lo tanto\n",
    "\n",
    "$$\\vec{F}=\\vec{0}+m\\frac{d\\vec{v}}{dt}$$"
   ]
  },
  {
   "cell_type": "markdown",
   "id": "74098414",
   "metadata": {},
   "source": [
    "asi\n",
    "\n",
    "$$\\vec{F}=m\\frac{\\vec{v}}{dt}$$\n",
    "\n",
    "pero $\\frac{\\vec{v}}{dt}=\\vec{a}$ \n",
    "\n",
    "remplazando en $\\vec{F}$ tenemos\n"
   ]
  },
  {
   "cell_type": "markdown",
   "id": "a55e4e38",
   "metadata": {},
   "source": [
    "$$\\vec{F}=m\\vec{a}$$"
   ]
  },
  {
   "cell_type": "markdown",
   "id": "7dc49fed",
   "metadata": {},
   "source": [
    "solo para masa constante"
   ]
  },
  {
   "cell_type": "markdown",
   "id": "b73cde66",
   "metadata": {},
   "source": [
    "Suma de Vectores\n",
    "=="
   ]
  },
  {
   "cell_type": "markdown",
   "id": "a16d9d20",
   "metadata": {},
   "source": [
    "$$\\vec{a}+\\vec{b}$$"
   ]
  },
  {
   "cell_type": "markdown",
   "id": "a112d7d4",
   "metadata": {},
   "source": [
    "Calculando su magnitud\n",
    "\n",
    "$$|\\vec{a}+\\vec{b}|=\\sqrt{(a_x+b_x)^2+(a_y+b_y)^2+(a_z+b_z)^2}$$"
   ]
  },
  {
   "cell_type": "markdown",
   "id": "f25776c5",
   "metadata": {},
   "source": [
    "$$|\\vec{a}+\\vec{b}|^2=(a_x+b_x)^2+(a_y+b_y)^2+(a_z+b_z)^2$$"
   ]
  },
  {
   "cell_type": "markdown",
   "id": "483a3861",
   "metadata": {},
   "source": [
    "$$=a_{x}^{2}+b_{x}^{2}+2a_xb_x+a_{y}^{2}+b_{y}^{2}+2a_y b_y + a_{z}^{2}+b_{z}^{2}+2a_zb_z$$"
   ]
  },
  {
   "cell_type": "markdown",
   "id": "9b6293ba",
   "metadata": {},
   "source": [
    "$$=(a_{x}^{2}+a_{y}^{2}+a_{z}^{2})+(b_{x}^{2}+b_{y}^{2}+b_{z}^{2})+(2a_xb_x+2a_yb_y+2a_zb_z)$$"
   ]
  },
  {
   "cell_type": "markdown",
   "id": "d76a962b",
   "metadata": {},
   "source": [
    "$$=(a_{x}^{2}+a_{y}^{2}+a_{z}^{2})+(b_{x}^{2}+b_{y}^{2}+b_{z}^{2})+2(a_xb_x+a_yb_y+a_zb_z)$$"
   ]
  },
  {
   "cell_type": "markdown",
   "id": "420928ee",
   "metadata": {},
   "source": [
    "pero $a^2=a_{x}^{2}+a_{y}^{2}+a_{z}^{2}$ de igual forma $b^2=b_{x}^{2}+b_{y}^{2}+b_{z}^{2}$\n",
    "\n",
    "\n",
    "por productor escalar sabemos que\n",
    "\n",
    "$$\\vec{a}\\cdot\\vec{b}=a_xb_x+a_yb_y+a_zb_z$$"
   ]
  },
  {
   "cell_type": "markdown",
   "id": "df334e89",
   "metadata": {},
   "source": [
    "Remplazando valores\n",
    "\n",
    "$$|\\vec{a}+\\vec{b}|^2=a^2+b^2+2\\vec{a}\\cdot\\vec{b}$$"
   ]
  },
  {
   "cell_type": "markdown",
   "id": "f182b32c",
   "metadata": {},
   "source": [
    "pero $\\vec{a}\\cdot\\vec{b}=2abcos\\theta$"
   ]
  },
  {
   "cell_type": "markdown",
   "id": "b4cf0e37",
   "metadata": {},
   "source": [
    "por último\n",
    "$$|\\vec{a}+\\vec{b}|^2=a^2+b^2+2abcos\\theta$$"
   ]
  },
  {
   "cell_type": "markdown",
   "id": "2eff6a38",
   "metadata": {},
   "source": [
    "para suma de vectores"
   ]
  },
  {
   "cell_type": "markdown",
   "id": "6c381a14",
   "metadata": {},
   "source": [
    "Movimiento rectilineo uniformemente variado\n",
    "=="
   ]
  },
  {
   "cell_type": "markdown",
   "id": "45bb1440",
   "metadata": {},
   "source": [
    "Si $\\vec{a}=\\frac{d\\vec{v}}{dt}$ tenemos:\n",
    "\n",
    "$$d\\vec{v}=\\vec{a}dt$$"
   ]
  },
  {
   "cell_type": "markdown",
   "id": "6e2f020e",
   "metadata": {},
   "source": [
    "integrando con $\\vec{a}$ constante\n",
    "\n",
    "$$\\int_{\\vec{v_0}}^{\\vec{v}}\\vec{v}=\\vec{a}\\int^{t}_{t_0}dt$$"
   ]
  },
  {
   "cell_type": "markdown",
   "id": "bf5b6852",
   "metadata": {},
   "source": [
    "$$\\vec{v}-\\vec{v_0}=\\vec{a}(t-t_0)$$"
   ]
  },
  {
   "cell_type": "markdown",
   "id": "0b1e490e",
   "metadata": {},
   "source": [
    "$$\\vec{v}=\\vec{v_0}+\\vec{a}(t-t_0)$$"
   ]
  },
  {
   "cell_type": "markdown",
   "id": "5fd558fe",
   "metadata": {},
   "source": [
    "pero $$\\frac{d\\vec{r}}{dt}=\\vec{v}$$"
   ]
  },
  {
   "cell_type": "markdown",
   "id": "4f836f49",
   "metadata": {},
   "source": [
    "$$\\frac{d\\vec{r}}{dt}=\\vec{v_0}+\\vec{a}(t-t_0)$$"
   ]
  },
  {
   "cell_type": "markdown",
   "id": "b1fd3888",
   "metadata": {},
   "source": [
    "integrando $d\\vec{r}$"
   ]
  },
  {
   "cell_type": "markdown",
   "id": "82d1ec70",
   "metadata": {},
   "source": [
    "$$\\int_{\\vec{r_0}}^{\\vec{r}}d\\vec{r}=\\int_{0}^{t}\\vec{v_o}+\\vec{a}(t-t_0)dt$$"
   ]
  },
  {
   "cell_type": "markdown",
   "id": "ba16405a",
   "metadata": {},
   "source": [
    "integrando y cambiando variables"
   ]
  },
  {
   "cell_type": "markdown",
   "id": "e61d0d55",
   "metadata": {},
   "source": [
    "$$\\vec{r}=\\vec{r_0}+\\vec{v_0}(t-t_0)+\\frac{1}{2}\\vec{a}(t-t_0)^2$$"
   ]
  },
  {
   "cell_type": "markdown",
   "id": "f433abc8",
   "metadata": {},
   "source": [
    "Ecuacion de segundo grado."
   ]
  },
  {
   "cell_type": "markdown",
   "id": "59d19e1c",
   "metadata": {},
   "source": [
    "Velocidad\n",
    "=="
   ]
  },
  {
   "cell_type": "markdown",
   "id": "4a0a8a68",
   "metadata": {},
   "source": [
    "De $\\vec{a}=\\frac{d\\vec{v}}{dt}$ operamos $d\\vec{r}$ a ambos miembros"
   ]
  },
  {
   "cell_type": "markdown",
   "id": "f15e485d",
   "metadata": {},
   "source": [
    "$$\\vec{a}\\circ d\\vec{r}=\\frac{d\\vec{v}}{dt}\\circ d\\vec{r}$$"
   ]
  },
  {
   "cell_type": "markdown",
   "id": "a8c69dbe",
   "metadata": {},
   "source": [
    "$$\\int_{v_0}^{v}\\vec{v}d\\vec{v}=\\vec{a} \\int_{r_0}^{r}d\\vec{r}$$"
   ]
  },
  {
   "cell_type": "markdown",
   "id": "b2a40a71",
   "metadata": {},
   "source": [
    "Con aceleración constante, integrando\n",
    "\n",
    "$$\\frac{1}{2}(\\vec{v} \\circ \\vec{v}-\\vec{v}_0 \\circ\\vec{v}_0)=\\vec{a}(\\vec{r}-\\vec{r_0})$$"
   ]
  },
  {
   "cell_type": "markdown",
   "id": "942dd305",
   "metadata": {},
   "source": [
    "$$\\vec{v}\\circ \\vec{v}=\\vec{v}_0 \\circ\\vec{v}_0+2\\vec{a}\\circ(\\vec{r}-\\vec{r}_0)$$"
   ]
  },
  {
   "cell_type": "markdown",
   "id": "fd73a50e",
   "metadata": {},
   "source": [
    "vectorialmente\n"
   ]
  },
  {
   "cell_type": "markdown",
   "id": "98d47f86",
   "metadata": {},
   "source": [
    "Trabajo\n",
    "=="
   ]
  },
  {
   "cell_type": "markdown",
   "id": "d1bb3b5e",
   "metadata": {},
   "source": [
    "De $$dW=\\vec{F}\\circ d\\vec{r}$$"
   ]
  },
  {
   "cell_type": "markdown",
   "id": "b32d16c7",
   "metadata": {},
   "source": [
    "$$dW=Fdrcos\\theta$$"
   ]
  },
  {
   "cell_type": "markdown",
   "id": "503c6cbf",
   "metadata": {},
   "source": [
    "Y $$\\vec{F}\\circ d\\vec{r}=\\frac{md\\vec{v}}{dt}\\circ d\\vec{r}$$"
   ]
  },
  {
   "cell_type": "markdown",
   "id": "ad6e9867",
   "metadata": {},
   "source": [
    "$$dW=md\\vec{v}\\circ \\frac{d\\vec{r}}{dt}$$\n",
    "$$dW=md\\vec{v}\\circ \\vec{v}$$"
   ]
  },
  {
   "cell_type": "markdown",
   "id": "d122c459",
   "metadata": {},
   "source": [
    "Por productor escalar"
   ]
  },
  {
   "cell_type": "markdown",
   "id": "3e751d5b",
   "metadata": {},
   "source": [
    "$$dW=mvdv$$"
   ]
  },
  {
   "cell_type": "markdown",
   "id": "5db6f036",
   "metadata": {},
   "source": [
    "Integrando miembro a miembro"
   ]
  },
  {
   "cell_type": "markdown",
   "id": "b487e204",
   "metadata": {},
   "source": [
    "$$W=\\frac{1}{2}mv^2-\\frac{1}{2}mv^{2}_{0}$$"
   ]
  },
  {
   "cell_type": "markdown",
   "id": "dd3b28c8",
   "metadata": {},
   "source": [
    "La variacion de energía cinética"
   ]
  },
  {
   "cell_type": "markdown",
   "id": "b3a2c71a",
   "metadata": {},
   "source": [
    "Potencia\n",
    "=="
   ]
  },
  {
   "cell_type": "markdown",
   "id": "c3cd21fb",
   "metadata": {},
   "source": [
    "Es la variación del trabajo en el tiempo."
   ]
  },
  {
   "cell_type": "markdown",
   "id": "b8afacb3",
   "metadata": {},
   "source": [
    "$$P=\\frac{\\Delta W}{\\Delta t}$$"
   ]
  },
  {
   "cell_type": "markdown",
   "id": "7623a24b",
   "metadata": {},
   "source": [
    "Cuando $\\Delta t$ tiende a 0\n",
    "$$P={\\lim_{\\Delta t \\rightarrow 0}} \\frac{\\Delta W}{\\Delta t}=\\frac{dW}{dt}=\\frac{\\vec{F}\\circ d\\vec{r}}{dt}=\\vec{F}\\circ \\vec{v}\n",
    "$$"
   ]
  },
  {
   "cell_type": "markdown",
   "id": "45d2f130",
   "metadata": {},
   "source": [
    "Asi \n",
    "$$P=Fvcos\\theta$$"
   ]
  },
  {
   "cell_type": "markdown",
   "id": "0ae6c8b6",
   "metadata": {},
   "source": [
    "Movimiento de parabólico\n",
    "=="
   ]
  },
  {
   "cell_type": "markdown",
   "id": "5fca764f",
   "metadata": {},
   "source": [
    "La velocidad en el eje x es constante entonces:\n",
    "\n",
    "$$x(t)=x_0 + vt$$"
   ]
  },
  {
   "cell_type": "markdown",
   "id": "614f3835",
   "metadata": {},
   "source": [
    "Con $v=v_0 cos \\theta$ asi"
   ]
  },
  {
   "cell_type": "markdown",
   "id": "5e124f01",
   "metadata": {},
   "source": [
    "$$x(t)=x_0 + (v_0 cos \\theta)t$$"
   ]
  },
  {
   "cell_type": "markdown",
   "id": "f3e36d5e",
   "metadata": {},
   "source": [
    "Para el eje y el movimiento esta sometido a la gravedad y tiene una acelación constante.\n",
    "\n",
    "$$y(t)=y_0 +(v_0 sen \\theta)t - \\frac{1}{2}gt^2$$"
   ]
  },
  {
   "cell_type": "markdown",
   "id": "ac8b09b6",
   "metadata": {},
   "source": [
    "Estas ecuaciones estan en función del tiempo."
   ]
  },
  {
   "cell_type": "markdown",
   "id": "2ed5c731",
   "metadata": {},
   "source": [
    "Velocidad del movimiento parabólico\n",
    "=="
   ]
  },
  {
   "cell_type": "markdown",
   "id": "1d5ff714",
   "metadata": {},
   "source": [
    "Para obtener la velocidad, simplemente derivamos $x(t)$ y $y(t)$ en función del tiempo."
   ]
  },
  {
   "cell_type": "markdown",
   "id": "0c888ce6",
   "metadata": {},
   "source": [
    "$$\\frac{dx(t)}{dt}=v_0 cos \\theta$$\n",
    "$$\\frac{dy(t)}{dt}=v_0 sen \\theta - gt$$"
   ]
  },
  {
   "cell_type": "markdown",
   "id": "1f2fcc0b",
   "metadata": {},
   "source": [
    "asi la velicidad sera\n",
    "$$v=||\\sqrt{v_{x}^{2}+ v_{y}^{2}}||$$"
   ]
  },
  {
   "cell_type": "markdown",
   "id": "1c98d7f9",
   "metadata": {},
   "source": [
    "Simulación del movimiento parabólico\n",
    "=="
   ]
  },
  {
   "cell_type": "markdown",
   "id": "0c98be67",
   "metadata": {},
   "source": [
    "de\n",
    "    $$y=y_{0}+(v_0 sin \\theta)t - \\frac{1}{2}gt^2$$"
   ]
  },
  {
   "cell_type": "markdown",
   "id": "64665fdd",
   "metadata": {},
   "source": [
    "podemos empezar a programar el movimento"
   ]
  },
  {
   "cell_type": "code",
   "execution_count": 33,
   "id": "6206873c",
   "metadata": {},
   "outputs": [
    {
     "data": {
      "image/png": "[encoded data removed]",
      "text/plain": [
       "<Figure size 432x288 with 1 Axes>"
      ]
     },
     "metadata": {
      "needs_background": "light"
     },
     "output_type": "display_data"
    },
    {
     "name": "stdout",
     "output_type": "stream",
     "text": [
      "0.7853981633974483\n"
     ]
    }
   ],
   "source": [
    "import numpy as np\n",
    "import matplotlib.pyplot as plt\n",
    "import matplotlib.animation as animation\n",
    "#Definimos los paramentros\n",
    "%matplotlib inline\n",
    "theta=np.pi/4\n",
    "x0=0.\n",
    "y0=0.\n",
    "v0=50.\n",
    "g=9.8\n",
    "\n",
    "def x_pos(theta,t,v0,x0):\n",
    "    x=x0+v0*np.cos(theta)*t\n",
    "    return x\n",
    "\n",
    "def y_pos(theta,t,v0,y0):\n",
    "    y=y0+(v0*np.sin(theta)*t)-((g*t**2)/2)\n",
    "    return y\n",
    "t=np.linspace(0,8,50)\n",
    "x=x_pos(theta,t,v0,0)\n",
    "y=y_pos(theta,t,v0,0)\n",
    "N=len(t)\n",
    "\n",
    "fig, ax=plt.subplots()\n",
    "ln, = plt.plot(x,y,'ro')\n",
    "ax.set_xlim(0,280)\n",
    "ax.set_ylim(0,80)\n",
    "\n",
    "def actualizar(i):\n",
    "    ln.set_data(x[i],y[i])\n",
    "    return ln,\n",
    "ani = animation.FuncAnimation(fig,actualizar,range(N),interval=0.00001)\n",
    "\n",
    "plt.plot(x,y)\n",
    "plt.grid()\n",
    "plt.show()\n",
    "print(theta)"
   ]
  },
  {
   "cell_type": "markdown",
   "id": "70b12ea3",
   "metadata": {},
   "source": [
    "Gravitación\n",
    "=="
   ]
  },
  {
   "cell_type": "markdown",
   "id": "7d1e0cee",
   "metadata": {},
   "source": [
    "De la ley de gravitación general de Newton\n",
    "\n",
    "$$\\vec{F}=G\\frac{m_1 m_2}{r^2}\\widehat{r}$$"
   ]
  },
  {
   "cell_type": "markdown",
   "id": "4fcc1d60",
   "metadata": {},
   "source": [
    "Para cada componente de la aceleración para 2d"
   ]
  },
  {
   "cell_type": "markdown",
   "id": "d49b71d3",
   "metadata": {},
   "source": [
    "$$a_1=G\\frac{m_2}{r^2}$$\n",
    "$$a_2=G\\frac{m_1}{r^2}$$"
   ]
  },
  {
   "cell_type": "markdown",
   "id": "1f568bf3",
   "metadata": {},
   "source": [
    "Como los cuerpos ocupan un espacion en el plano x e y podemos velo de forma vectorial\n",
    "\n",
    "$$\\vec{a_1}=G\\frac{m_2 \\vec{r}_{12}}{r^3}$$"
   ]
  },
  {
   "cell_type": "markdown",
   "id": "d80c5257",
   "metadata": {},
   "source": [
    "$$\\vec{a_2}=G\\frac{m_1 \\vec{r}_{12}}{r^3}$$"
   ]
  },
  {
   "cell_type": "markdown",
   "id": "798f7944",
   "metadata": {},
   "source": [
    "con $\\vec{r}_{12}$ vector $(x_2 - x_1, y_2 - y_1)$ y $\\vec{r}_{21}$ es el vector $(x_1-x_2,y_1-y_2)$ con modulo\n",
    "\n",
    "$$\\sqrt{(x_2 - x_1)^2 + (y_2 - y_1)^2}$$"
   ]
  },
  {
   "cell_type": "markdown",
   "id": "eeedb34b",
   "metadata": {},
   "source": [
    "Simulación Gravitacional\n",
    "=="
   ]
  },
  {
   "cell_type": "code",
   "execution_count": 19,
   "id": "89582629",
   "metadata": {},
   "outputs": [
    {
     "data": {
      "image/png": "[encoded data removed]",
      "text/plain": [
       "<Figure size 432x288 with 1 Axes>"
      ]
     },
     "metadata": {
      "needs_background": "light"
     },
     "output_type": "display_data"
    }
   ],
   "source": [
    "import matplotlib.animation as animation\n",
    "import matplotlib.pyplot as plt\n",
    "from math import sqrt\n",
    "\n",
    "%matplotlib inline\n",
    "\n",
    "x1 = -50.\n",
    "y1 = -50.\n",
    "velocidad_x1 = 0.1\n",
    "velocidad_y1 = 0.\n",
    "m1 = 20.\n",
    "\n",
    "x1sol = [x1]\n",
    "y1sol = [y1]\n",
    "x2 = 50.\n",
    "y2 = 50.\n",
    "velocidad_x2 = -0.1\n",
    "velocidad_y2 = 0.\n",
    "m2 = 20.\n",
    "x2sol = [x2]\n",
    "y2sol = [y2]\n",
    "\n",
    "for i in range(700 - 1):\n",
    "    r=sqrt((x2-x1)**2 + (y2-y1)**2)\n",
    "    aceleracion_x1 = m2*(x2-x1)/r**3\n",
    "    aceleracion_y1 = m2*(y2-y1)/r**3\n",
    "    aceleracion_x2 = m1*(x1-x2)/r**3\n",
    "    aceleracion_y2 = m1*(y1-y2)/r**3\n",
    "    \n",
    "    velocidad_x1 += aceleracion_x1\n",
    "    velocidad_y1 += aceleracion_y1\n",
    "    velocidad_x2 += aceleracion_x2\n",
    "    velocidad_y2 += aceleracion_y2\n",
    "    \n",
    "    x1 += velocidad_x1\n",
    "    y1 += velocidad_y1\n",
    "    x2 += velocidad_x2\n",
    "    y2 += velocidad_y2\n",
    "    \n",
    "    x1sol.append(x1)\n",
    "    y1sol.append(y1)\n",
    "    x2sol.append(x2)\n",
    "    y2sol.append(y2)\n",
    "\n",
    "N=len(x1sol)\n",
    "n1=len(x2sol)\n",
    "\n",
    "fig, ax = plt.subplots()\n",
    "ln, = plt.plot(x1sol, y1sol, 'ro')\n",
    "ln1, = plt.plot(x2sol, y2sol, 'bo')\n",
    "\n",
    "def init():\n",
    "    ax.set_xlim(-350, 350)\n",
    "    ax.set_ylim(-350, 350)\n",
    "    return ln, ln1,\n",
    "\n",
    "def update(i):\n",
    "    ln.set_data(x1sol[i], y1sol[i])\n",
    "    ln1.set_data(x2sol[i], y2sol[i])\n",
    "    return ln, ln1,\n",
    "\n",
    "ani = animation.FuncAnimation(fig,update, range(N))\n",
    "plt.grid(True)\n",
    "plt.show()"
   ]
  },
  {
   "cell_type": "markdown",
   "id": "24cecb9e",
   "metadata": {},
   "source": [
    "Similacion de un pendulo simple \n",
    "=="
   ]
  },
  {
   "cell_type": "markdown",
   "id": "1184b21c",
   "metadata": {},
   "source": [
    "Con las funciones de $\\theta (t)$ y $w(t)=\\frac{d \\theta}{dt}(t)$"
   ]
  },
  {
   "cell_type": "markdown",
   "id": "ca5590fa",
   "metadata": {},
   "source": [
    "Para la ecucion difenrencial\n",
    "$$ml^2 \\frac{}{} + mglsin \\theta = 0$$\n",
    "\n",
    "$$\\theta(0)=\\theta _{inc}$$\n",
    "$$w(0)=w_{inc}$$"
   ]
  },
  {
   "cell_type": "markdown",
   "id": "d15fb498",
   "metadata": {},
   "source": [
    "Identificamos cada términos de la ecuación al ponerla en la forma estándar\n",
    "$$\\frac{d^2 \\theta}{dt^2}=-\\frac{g}{l}sin  \\theta$$\n",
    "$$f(x,t)=-\\frac{g}{l} sin \\theta$$"
   ]
  },
  {
   "cell_type": "markdown",
   "id": "ad13c892",
   "metadata": {},
   "source": [
    "$u_0=\\theta$ ---> $\\frac{du_0}{dt}=\\frac{d \\theta}{dt}=u_1$"
   ]
  },
  {
   "cell_type": "markdown",
   "id": "bf681c48",
   "metadata": {},
   "source": [
    "$u_1=\\frac{d \\theta}{dt}=w$ ---> $\\frac{du_1}{dt}=\\frac{d^2 \\theta}{dt^2}=f(u,t)=-\\frac{\\theta}{l}sin u_0$"
   ]
  },
  {
   "cell_type": "code",
   "execution_count": 55,
   "id": "03f70b0b",
   "metadata": {},
   "outputs": [
    {
     "data": {
      "text/plain": [
       "\"\\nfig4=plt.figure(4)\\nax=fig.gca()\\n\\ndef actualizar(i):\\n    ax.clear()\\n    plt.plot([0,l*np.sin(thetasol[i])],[0,-l*np.cos(thetasol[i])],'b-')\\n    plt.plot(l*np.sin(thetasol[i]),-l*np.cos(thetasol[i]),'r')\\n    plt.title(srt(round(tsol[i],3)))\\n    \\n    plt.xlim(-.3,.3)\\n    plt.ylim(-1.1,0)\\n\\nani=animation.FuncAnimation(fig4,actualizar,range(len(thetasol)))\\nplt.show()\\n\""
      ]
     },
     "execution_count": 55,
     "metadata": {},
     "output_type": "execute_result"
    },
    {
     "data": {
      "image/png": "[encoded data removed]",
      "text/plain": [
       "<Figure size 432x288 with 1 Axes>"
      ]
     },
     "metadata": {
      "needs_background": "light"
     },
     "output_type": "display_data"
    },
    {
     "data": {
      "image/png": "[encoded data removed]",
      "text/plain": [
       "<Figure size 432x288 with 1 Axes>"
      ]
     },
     "metadata": {
      "needs_background": "light"
     },
     "output_type": "display_data"
    },
    {
     "data": {
      "image/png": "[encoded data removed]",
      "text/plain": [
       "<Figure size 432x288 with 1 Axes>"
      ]
     },
     "metadata": {
      "needs_background": "light"
     },
     "output_type": "display_data"
    }
   ],
   "source": [
    "import matplotlib.animation as animation\n",
    "import matplotlib.pyplot as plt\n",
    "import numpy as np\n",
    "\n",
    "%matplotlib inline\n",
    "\n",
    "m=1.\n",
    "l=1.\n",
    "g=9.87\n",
    "\n",
    "t = 0.\n",
    "omegainc = 0.5\n",
    "thetainc = 0.\n",
    "u= np.array([thetainc,omegainc])\n",
    "\n",
    "def f(u,t):\n",
    "    return -g*np.sin(u[0])/l\n",
    "def F(u,t):\n",
    "    return np.array([u[1],f(u,t)])\n",
    "\n",
    "tsol = [t]\n",
    "thetasol  = [u[0]]\n",
    "omegasol = [u[1]]\n",
    "dt = 0.01\n",
    "tfin = 10\n",
    "\n",
    "while t<tfin:\n",
    "    u = u+F(u,t)*dt\n",
    "    t = t+dt\n",
    "    thetasol.append(u[0])\n",
    "    omegasol.append(u[1])\n",
    "    tsol.append(t)\n",
    "\n",
    "plt.figure(1)\n",
    "plt.plot(tsol,thetasol)\n",
    "plt.title(\"Tiempo vs Theta\")\n",
    "plt.xlabel(\"Tiempo\")\n",
    "plt.ylabel(\"Theta\")\n",
    "plt.grid(True)\n",
    "\n",
    "plt.figure(2)\n",
    "plt.plot(tsol,omegasol)\n",
    "plt.title(\"Tiempo vs Omega\")\n",
    "plt.xlabel(\"Tiempo\")\n",
    "plt.ylabel(\"Omega\")\n",
    "plt.grid(True)\n",
    "\n",
    "plt.figure(3)\n",
    "plt.plot(thetasol,omegasol)\n",
    "plt.title(\"Theta vs Omega\")\n",
    "plt.xlabel(\"Theta\")\n",
    "plt.ylabel(\"Omega\")\n",
    "plt.grid(True)\n",
    "\n",
    "\n",
    "'''\n",
    "fig4=plt.figure(4)\n",
    "ax=fig.gca()\n",
    "\n",
    "def actualizar(i):\n",
    "    ax.clear()\n",
    "    plt.plot([0,l*np.sin(thetasol[i])],[0,-l*np.cos(thetasol[i])],'b-')\n",
    "    plt.plot(l*np.sin(thetasol[i]),-l*np.cos(thetasol[i]),'r')\n",
    "    plt.title(srt(round(tsol[i],3)))\n",
    "    \n",
    "    plt.xlim(-.3,.3)\n",
    "    plt.ylim(-1.1,0)\n",
    "\n",
    "ani=animation.FuncAnimation(fig4,actualizar,range(len(thetasol)))\n",
    "plt.show()\n",
    "'''"
   ]
  }
 ],
 "metadata": {
  "kernelspec": {
   "display_name": "Python 3",
   "language": "python",
   "name": "python3"
  },
  "language_info": {
   "codemirror_mode": {
    "name": "ipython",
    "version": 3
   },
   "file_extension": ".py",
   "mimetype": "text/x-python",
   "name": "python",
   "nbconvert_exporter": "python",
   "pygments_lexer": "ipython3",
   "version": "3.8.8"
  }
 },
 "nbformat": 4,
 "nbformat_minor": 5
}
